{
 "cells": [
  {
   "cell_type": "code",
   "execution_count": null,
   "id": "26b16cdb900e6f01",
   "metadata": {
    "ExecuteTime": {
     "end_time": "2024-02-15T16:40:42.813875700Z",
     "start_time": "2024-02-15T16:40:42.723614700Z"
    },
    "collapsed": false
   },
   "outputs": [],
   "source": [
    "# Importación de bibliotecas necesarias\n",
    "import pandas as pd\n",
    "from IPython.display import display\n",
    "\n",
    "# Carga de datos desde el archivo CSV 'red-wine.csv' en un DataFrame llamado 'red_wine'\n",
    "red_wine = pd.read_csv('csv/red-wine.csv')\n",
    "\n",
    "# Creación de conjuntos de entrenamiento y validación\n",
    "# Se selecciona aleatoriamente el 70% de los datos para entrenamiento y el 30% restante para validación\n",
    "df_train = red_wine.sample(frac=0.7, random_state=0)\n",
    "df_valid = red_wine.drop(df_train.index)\n",
    "\n",
    "# Visualización de los primeros 4 registros del conjunto de entrenamiento\n",
    "display(df_train.head(4))\n",
    "\n",
    "# Separación de características (X) y variable objetivo (y) para entrenamiento y validación\n",
    "X_train = df_train.drop('quality', axis=1)\n",
    "X_valid = df_valid.drop('quality', axis=1)\n",
    "y_train = df_train['quality']\n",
    "y_valid = df_valid['quality']\n"
   ]
  },
  {
   "cell_type": "code",
   "execution_count": null,
   "id": "eb0978b38e9a9ef5",
   "metadata": {
    "ExecuteTime": {
     "end_time": "2024-02-15T16:40:42.815123800Z",
     "start_time": "2024-02-15T16:40:42.763256500Z"
    },
    "collapsed": false
   },
   "outputs": [],
   "source": [
    "# Impresión de la forma (número de filas y columnas) de X_train\n",
    "print(X_train.shape)"
   ]
  },
  {
   "cell_type": "code",
   "execution_count": null,
   "id": "4d353b60164cc4db",
   "metadata": {
    "ExecuteTime": {
     "end_time": "2024-02-15T16:40:42.919450300Z",
     "start_time": "2024-02-15T16:40:42.772174100Z"
    },
    "collapsed": false
   },
   "outputs": [],
   "source": [
    "# !pip install tensorflow\n",
    "# Importación de las bibliotecas necesarias de TensorFlow y Keras\n",
    "from tensorflow import keras\n",
    "from tensorflow.keras import layers\n",
    "\n",
    "# Creación del modelo de red neuronal\n",
    "model = keras.Sequential([\n",
    "    # Capa densa con 120 neuronas, función de activación ReLU y entrada de forma [11]\n",
    "    layers.Dense(120, activation='relu', input_shape=[11]),\n",
    "    \n",
    "    # Capa densa con 1 neurona (salida)\n",
    "    layers.Dense(1),\n",
    "])"
   ]
  },
  {
   "cell_type": "code",
   "execution_count": null,
   "id": "97f4f22dd9cae8fc",
   "metadata": {
    "ExecuteTime": {
     "end_time": "2024-02-15T16:40:42.920625Z",
     "start_time": "2024-02-15T16:40:42.825295Z"
    },
    "collapsed": false
   },
   "outputs": [],
   "source": [
    "# Compilación del modelo con el optimizador 'adam' y la función de pérdida 'mae' (Mean Absolute Error)\n",
    "model.compile(\n",
    "    optimizer='adam',\n",
    "    loss='mae',\n",
    ")\n"
   ]
  },
  {
   "cell_type": "code",
   "execution_count": null,
   "id": "86ea74abf7e3a609",
   "metadata": {
    "ExecuteTime": {
     "end_time": "2024-02-15T16:40:45.014748800Z",
     "start_time": "2024-02-15T16:40:42.846258800Z"
    },
    "collapsed": false
   },
   "outputs": [],
   "source": [
    "# Entrenamiento del modelo con los datos de entrenamiento y validación\n",
    "# Se utiliza X_train y y_train para el entrenamiento, y X_valid e y_valid para la validación\n",
    "# Se especifica el tamaño del lote (batch_size) como 256 y el número de épocas como 10\n",
    "history = model.fit(\n",
    "    X_train, y_train,\n",
    "    validation_data=(X_valid, y_valid),\n",
    "    batch_size=256,\n",
    "    epochs=10,\n",
    ")\n"
   ]
  },
  {
   "cell_type": "code",
   "execution_count": null,
   "id": "2ceceea717bc7c9f",
   "metadata": {
    "ExecuteTime": {
     "end_time": "2024-02-15T16:40:45.254889400Z",
     "start_time": "2024-02-15T16:40:45.019122800Z"
    },
    "collapsed": false
   },
   "outputs": [],
   "source": [
    "# Importación de la biblioteca Pandas\n",
    "import pandas as pd\n",
    "\n",
    "# Convierte el historial de entrenamiento en un DataFrame\n",
    "history_df = pd.DataFrame(history.history)\n",
    "\n",
    "# Utiliza el método de trazado nativo de Pandas para visualizar la pérdida a lo largo de las épocas\n",
    "history_df['loss'].plot();\n"
   ]
  },
  {
   "cell_type": "code",
   "execution_count": null,
   "id": "e77498dcdbbfab75",
   "metadata": {
    "ExecuteTime": {
     "end_time": "2024-02-15T16:46:36.930267100Z",
     "start_time": "2024-02-15T16:46:36.860391700Z"
    },
    "collapsed": false
   },
   "outputs": [],
   "source": [
    "# Evaluación del modelo en el conjunto de validación\n",
    "eval_result = model.evaluate(X_valid, y_valid)\n",
    "\n",
    "# Imprime la pérdida en los datos de validación\n",
    "print(f\"Loss en datos de validación: {eval_result}\")\n"
   ]
  }
 ],
 "metadata": {
  "kernelspec": {
   "display_name": "Python 3",
   "language": "python",
   "name": "python3"
  },
  "language_info": {
   "codemirror_mode": {
    "name": "ipython",
    "version": 3
   },
   "file_extension": ".py",
   "mimetype": "text/x-python",
   "name": "python",
   "nbconvert_exporter": "python",
   "pygments_lexer": "ipython3",
   "version": "3.10.11"
  }
 },
 "nbformat": 4,
 "nbformat_minor": 5
}
