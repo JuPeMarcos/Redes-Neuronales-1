{
 "cells": [
  {
   "cell_type": "markdown",
   "id": "6def7422069f248f",
   "metadata": {
    "collapsed": false
   },
   "source": [
    "# Enunciado"
   ]
  },
  {
   "cell_type": "code",
   "execution_count": null,
   "id": "initial_id",
   "metadata": {
    "ExecuteTime": {
     "end_time": "2024-02-13T20:10:14.278934700Z",
     "start_time": "2024-02-13T20:10:14.262430900Z"
    },
    "collapsed": true
   },
   "outputs": [],
   "source": [
    "# Importación de bibliotecas necesarias\n",
    "import pandas as pd\n",
    "from IPython.display import display\n",
    "\n",
    "# Carga del conjunto de datos de vino tinto desde un archivo CSV\n",
    "red_wine = pd.read_csv('csv/red-wine.csv')\n",
    "\n",
    "# Creación de conjuntos de entrenamiento y validación\n",
    "df_train = red_wine.sample(frac=0.7, random_state=0)\n",
    "df_valid = red_wine.drop(df_train.index)\n",
    "display(df_train.head(4))\n",
    "\n",
    "# Escala min-max para normalizar los datos en el rango [0, 1]\n",
    "max_ = df_train.max(axis=0)\n",
    "min_ = df_train.min(axis=0)\n",
    "df_train = (df_train - min_) / (max_ - min_)\n",
    "df_valid = (df_valid - min_) / (max_ - min_)\n",
    "\n",
    "# Separar características y objetivo para el conjunto de entrenamiento y validación normalizado\n",
    "X_train = df_train.drop('quality', axis=1)\n",
    "X_valid = df_valid.drop('quality', axis=1)\n",
    "y_train = df_train['quality']\n",
    "y_valid = df_valid['quality']\n",
    "\n",
    "# Verificar las dimensiones de los conjuntos de entrenamiento y validación\n",
    "print(X_train.shape)\n"
   ]
  },
  {
   "cell_type": "code",
   "execution_count": null,
   "id": "dbeeca2dcedbaf4d",
   "metadata": {
    "ExecuteTime": {
     "end_time": "2024-02-13T20:10:14.324815800Z",
     "start_time": "2024-02-13T20:10:14.282985700Z"
    },
    "collapsed": false
   },
   "outputs": [],
   "source": [
    "# Importación de TensorFlow y Keras\n",
    "from tensorflow import keras\n",
    "from tensorflow.keras import layers\n",
    "\n",
    "# Creación del modelo de red neuronal con capas densas\n",
    "model = keras.Sequential([\n",
    "    # Capa densa con 512 neuronas, función de activación ReLU y entrada de forma [11]\n",
    "    layers.Dense(512, activation='relu', input_shape=[11]),\n",
    "    \n",
    "    # Capa densa con 512 neuronas y función de activación ReLU\n",
    "    layers.Dense(512, activation='relu'),\n",
    "    \n",
    "    # Capa densa con 512 neuronas y función de activación ReLU\n",
    "    layers.Dense(512, activation='relu'),\n",
    "    \n",
    "    # Capa densa con 1 neurona (salida)\n",
    "    layers.Dense(1),\n",
    "])\n"
   ]
  },
  {
   "cell_type": "code",
   "execution_count": null,
   "id": "8dc77408d9e9ea34",
   "metadata": {
    "ExecuteTime": {
     "end_time": "2024-02-13T20:10:14.332891900Z",
     "start_time": "2024-02-13T20:10:14.324815800Z"
    },
    "collapsed": false
   },
   "outputs": [],
   "source": [
    "# Compilación del modelo con el optimizador 'adam' y la función de pérdida 'mae' (Mean Absolute Error)\n",
    "model.compile(\n",
    "    optimizer='adam',\n",
    "    loss='mae',\n",
    ")"
   ]
  },
  {
   "cell_type": "code",
   "execution_count": null,
   "id": "343f1316ab59ffb9",
   "metadata": {
    "ExecuteTime": {
     "end_time": "2024-02-13T20:10:15.705716200Z",
     "start_time": "2024-02-13T20:10:14.332891900Z"
    },
    "collapsed": false
   },
   "outputs": [],
   "source": [
    "# Entrenamiento del modelo con los datos de entrenamiento y validación\n",
    "# Se utiliza X_train y y_train para el entrenamiento,\n",
    "# y X_valid e y_valid para la validación\n",
    "# Se especifica el tamaño del lote (batch_size) como 256 y el número de épocas como 10\n",
    "history = model.fit(\n",
    "    X_train, y_train,\n",
    "    validation_data=(X_valid, y_valid),\n",
    "    batch_size=256,\n",
    "    epochs=10,\n",
    ")\n"
   ]
  },
  {
   "cell_type": "code",
   "execution_count": null,
   "id": "c092ca469c5ff36c",
   "metadata": {
    "ExecuteTime": {
     "end_time": "2024-02-13T20:10:15.817623300Z",
     "start_time": "2024-02-13T20:10:15.706723400Z"
    },
    "collapsed": false
   },
   "outputs": [],
   "source": [
    "# Importación de la biblioteca Pandas\n",
    "import pandas as pd\n",
    "\n",
    "# Convertir el historial de entrenamiento a un DataFrame\n",
    "history_df = pd.DataFrame(history.history)\n",
    "\n",
    "# Utilizar el método de trazado nativo de Pandas para visualizar la pérdida a lo largo de las épocas\n",
    "history_df['loss'].plot();\n"
   ]
  }
 ],
 "metadata": {
  "kernelspec": {
   "display_name": "Python 3",
   "language": "python",
   "name": "python3"
  },
  "language_info": {
   "codemirror_mode": {
    "name": "ipython",
    "version": 3
   },
   "file_extension": ".py",
   "mimetype": "text/x-python",
   "name": "python",
   "nbconvert_exporter": "python",
   "pygments_lexer": "ipython3",
   "version": "3.10.11"
  }
 },
 "nbformat": 4,
 "nbformat_minor": 5
}
